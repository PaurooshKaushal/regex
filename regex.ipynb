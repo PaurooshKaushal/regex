{
 "cells": [
  {
   "cell_type": "markdown",
   "id": "225be0bf",
   "metadata": {},
   "source": [
    "#### Regular Expressions\n",
    "re library lab session. Edit in branch. Edited again and ready to be merged with main branch"
   ]
  },
  {
   "cell_type": "code",
   "execution_count": 1,
   "id": "77ea8fac",
   "metadata": {},
   "outputs": [],
   "source": [
    "text = 'My agent phone number is 489-765. Call soon!'"
   ]
  },
  {
   "cell_type": "code",
   "execution_count": 2,
   "id": "beb2b4a8",
   "metadata": {},
   "outputs": [
    {
     "data": {
      "text/plain": [
       "True"
      ]
     },
     "execution_count": 2,
     "metadata": {},
     "output_type": "execute_result"
    }
   ],
   "source": [
    "'phone' in text"
   ]
  },
  {
   "cell_type": "code",
   "execution_count": 4,
   "id": "c9143a38",
   "metadata": {},
   "outputs": [],
   "source": [
    "import re"
   ]
  },
  {
   "cell_type": "code",
   "execution_count": 6,
   "id": "c5095569",
   "metadata": {},
   "outputs": [],
   "source": [
    "pattern = 'phone'"
   ]
  },
  {
   "cell_type": "code",
   "execution_count": 7,
   "id": "0997bf2d",
   "metadata": {},
   "outputs": [
    {
     "data": {
      "text/plain": [
       "<re.Match object; span=(9, 14), match='phone'>"
      ]
     },
     "execution_count": 7,
     "metadata": {},
     "output_type": "execute_result"
    }
   ],
   "source": [
    "re.search(pattern,text)\n",
    "# span tells start and end index of match"
   ]
  },
  {
   "cell_type": "code",
   "execution_count": 8,
   "id": "21815370",
   "metadata": {},
   "outputs": [],
   "source": [
    "pattern = 'not'\n",
    "re.search(pattern,text)"
   ]
  },
  {
   "cell_type": "code",
   "execution_count": 9,
   "id": "9edd4235",
   "metadata": {},
   "outputs": [
    {
     "data": {
      "text/plain": [
       "(9, 14)"
      ]
     },
     "execution_count": 9,
     "metadata": {},
     "output_type": "execute_result"
    }
   ],
   "source": [
    "pattern = 'phone'\n",
    "match = re.search(pattern,text)\n",
    "match.span()"
   ]
  },
  {
   "cell_type": "code",
   "execution_count": 10,
   "id": "837d075a",
   "metadata": {},
   "outputs": [
    {
     "name": "stdout",
     "output_type": "stream",
     "text": [
      "9\n",
      "14\n"
     ]
    }
   ],
   "source": [
    "print(match.start())\n",
    "print(match.end())"
   ]
  },
  {
   "cell_type": "code",
   "execution_count": 11,
   "id": "1d53a81e-9026-4caa-bf31-726e4b521843",
   "metadata": {},
   "outputs": [],
   "source": [
    "text = 'My agent phone number is 489-765. Call soon! What is your phone number'"
   ]
  },
  {
   "cell_type": "code",
   "execution_count": 12,
   "id": "2a003c6f-a454-4de4-9b1a-b8fd4c0505b3",
   "metadata": {},
   "outputs": [],
   "source": [
    "pattern = 'phone'\n",
    "match = re.search(pattern,text)"
   ]
  },
  {
   "cell_type": "code",
   "execution_count": 13,
   "id": "60adbf49-75ef-431e-aed1-6e52efb82e4d",
   "metadata": {},
   "outputs": [
    {
     "data": {
      "text/plain": [
       "<re.Match object; span=(9, 14), match='phone'>"
      ]
     },
     "execution_count": 13,
     "metadata": {},
     "output_type": "execute_result"
    }
   ],
   "source": [
    "match"
   ]
  },
  {
   "cell_type": "markdown",
   "id": "f1e2818c-ee36-432e-a61d-078d49d731a9",
   "metadata": {},
   "source": [
    "Fina all patterns in text using findall"
   ]
  },
  {
   "cell_type": "code",
   "execution_count": 14,
   "id": "231d7db7",
   "metadata": {},
   "outputs": [
    {
     "data": {
      "text/plain": [
       "['phone', 'phone']"
      ]
     },
     "execution_count": 14,
     "metadata": {},
     "output_type": "execute_result"
    }
   ],
   "source": [
    "text = 'My phone is black and your phone is blue'\n",
    "pattern = 'phone'\n",
    "match = re.findall(pattern,text)\n",
    "match"
   ]
  },
  {
   "cell_type": "code",
   "execution_count": 15,
   "id": "082bbba6",
   "metadata": {},
   "outputs": [
    {
     "data": {
      "text/plain": [
       "2"
      ]
     },
     "execution_count": 15,
     "metadata": {},
     "output_type": "execute_result"
    }
   ],
   "source": [
    "len(match)"
   ]
  },
  {
   "cell_type": "code",
   "execution_count": 16,
   "id": "4612b32c",
   "metadata": {},
   "outputs": [
    {
     "name": "stdout",
     "output_type": "stream",
     "text": [
      "(3, 8)\n",
      "<re.Match object; span=(3, 8), match='phone'>\n",
      "(27, 32)\n",
      "<re.Match object; span=(27, 32), match='phone'>\n"
     ]
    }
   ],
   "source": [
    "for match in re.finditer(pattern,text):\n",
    "    print(match.span())\n",
    "    print(match)"
   ]
  },
  {
   "cell_type": "code",
   "execution_count": 26,
   "id": "78d5e75f",
   "metadata": {},
   "outputs": [],
   "source": [
    "# character identifier\n",
    "text = 'My phone number is +91-7264921027'\n",
    "pattern = r'\\W\\d\\d\\W\\d\\d\\d\\d\\d\\d\\d\\d\\d\\d'\n",
    "phone = re.search(pattern,text)"
   ]
  },
  {
   "cell_type": "code",
   "execution_count": 27,
   "id": "b9791b19",
   "metadata": {},
   "outputs": [
    {
     "data": {
      "text/plain": [
       "<re.Match object; span=(19, 33), match='+91-7264921027'>"
      ]
     },
     "execution_count": 27,
     "metadata": {},
     "output_type": "execute_result"
    }
   ],
   "source": [
    "phone"
   ]
  },
  {
   "cell_type": "code",
   "execution_count": 28,
   "id": "13b9e855",
   "metadata": {},
   "outputs": [
    {
     "data": {
      "text/plain": [
       "'+91-7264921027'"
      ]
     },
     "execution_count": 28,
     "metadata": {},
     "output_type": "execute_result"
    }
   ],
   "source": [
    "phone.group()"
   ]
  },
  {
   "cell_type": "code",
   "execution_count": 29,
   "id": "734f9182",
   "metadata": {},
   "outputs": [],
   "source": [
    "# Use of quantifier\n",
    "pattern = r'\\W\\d{2}\\W\\d{10}'\n",
    "phone = re.search(pattern,text)"
   ]
  },
  {
   "cell_type": "code",
   "execution_count": 30,
   "id": "6ffa7c7f",
   "metadata": {},
   "outputs": [
    {
     "data": {
      "text/plain": [
       "<re.Match object; span=(19, 33), match='+91-7264921027'>"
      ]
     },
     "execution_count": 30,
     "metadata": {},
     "output_type": "execute_result"
    }
   ],
   "source": [
    "phone"
   ]
  },
  {
   "cell_type": "code",
   "execution_count": 39,
   "id": "a9c52b34",
   "metadata": {},
   "outputs": [],
   "source": [
    "# compile function\n",
    "pattern = re.compile(r'(\\W(\\d{2}))\\W(\\d{10})')"
   ]
  },
  {
   "cell_type": "code",
   "execution_count": 40,
   "id": "c63104ff",
   "metadata": {},
   "outputs": [],
   "source": [
    "results = re.search(pattern,text)"
   ]
  },
  {
   "cell_type": "code",
   "execution_count": 41,
   "id": "b88ee912",
   "metadata": {},
   "outputs": [
    {
     "data": {
      "text/plain": [
       "<re.Match object; span=(19, 33), match='+91-7264921027'>"
      ]
     },
     "execution_count": 41,
     "metadata": {},
     "output_type": "execute_result"
    }
   ],
   "source": [
    "results"
   ]
  },
  {
   "cell_type": "code",
   "execution_count": 45,
   "id": "418b9510",
   "metadata": {},
   "outputs": [
    {
     "data": {
      "text/plain": [
       "'7264921027'"
      ]
     },
     "execution_count": 45,
     "metadata": {},
     "output_type": "execute_result"
    }
   ],
   "source": [
    "results.group(3)\n",
    "# indexing starts with 0\n",
    "# 0 contains complete"
   ]
  },
  {
   "cell_type": "markdown",
   "id": "584be615-802f-46f7-b681-ed1c64fe7a58",
   "metadata": {},
   "source": [
    "Pipe Operator"
   ]
  },
  {
   "cell_type": "code",
   "execution_count": 47,
   "id": "071a7a4f",
   "metadata": {},
   "outputs": [
    {
     "data": {
      "text/plain": [
       "<re.Match object; span=(4, 7), match='cat'>"
      ]
     },
     "execution_count": 47,
     "metadata": {},
     "output_type": "execute_result"
    }
   ],
   "source": [
    "re.search(r'cat|dog','The cat is here')"
   ]
  },
  {
   "cell_type": "code",
   "execution_count": 48,
   "id": "b47580c5",
   "metadata": {},
   "outputs": [
    {
     "data": {
      "text/plain": [
       "[' cat', ' sat', ' hat', 'hhat', 'hhat']"
      ]
     },
     "execution_count": 48,
     "metadata": {},
     "output_type": "execute_result"
    }
   ],
   "source": [
    "# wild card operator\n",
    "re.findall(r'..at','The cat sat in hat to make hhat but hhhat')"
   ]
  },
  {
   "cell_type": "code",
   "execution_count": 49,
   "id": "99e3ed3c",
   "metadata": {},
   "outputs": [
    {
     "data": {
      "text/plain": [
       "['35', '2']"
      ]
     },
     "execution_count": 49,
     "metadata": {},
     "output_type": "execute_result"
    }
   ],
   "source": [
    "# return only digits\n",
    "text = 'There are 35 animals and 2 birds in the cage'\n",
    "pattern = r'[\\d]+'\n",
    "clean = re.findall(pattern,text)\n",
    "clean"
   ]
  },
  {
   "cell_type": "code",
   "execution_count": 50,
   "id": "c547f142",
   "metadata": {},
   "outputs": [
    {
     "data": {
      "text/plain": [
       "['There ',\n",
       " 'are ',\n",
       " '35 ',\n",
       " 'animals',\n",
       " 'Are ',\n",
       " 'there ',\n",
       " '2 ',\n",
       " 'birds ',\n",
       " 'in ',\n",
       " 'the ',\n",
       " 'cage']"
      ]
     },
     "execution_count": 50,
     "metadata": {},
     "output_type": "execute_result"
    }
   ],
   "source": [
    "# remove punctuation and question mark from a sentence\n",
    "pattern = r'[\\w]+[^.?]'\n",
    "text = 'There are 35 animals. Are there 2 birds in the cage?'\n",
    "clean = re.findall(pattern,text)\n",
    "clean"
   ]
  },
  {
   "cell_type": "code",
   "execution_count": 52,
   "id": "2b87ca21",
   "metadata": {},
   "outputs": [
    {
     "data": {
      "text/plain": [
       "'There are 35 animalsAre there 2 birds in the cage'"
      ]
     },
     "execution_count": 52,
     "metadata": {},
     "output_type": "execute_result"
    }
   ],
   "source": [
    "comp = ''.join(clean)\n",
    "comp"
   ]
  },
  {
   "cell_type": "code",
   "execution_count": 53,
   "id": "2348c36e",
   "metadata": {},
   "outputs": [
    {
     "data": {
      "text/plain": [
       "['match-fixing', 'trouble-shooting']"
      ]
     },
     "execution_count": 53,
     "metadata": {},
     "output_type": "execute_result"
    }
   ],
   "source": [
    "# return hypen words only\n",
    "text = 'At some place, match-fixing and trouble-shooting happens simultaneously'\n",
    "pattern = r'[\\w]+-[\\w]+'\n",
    "clean = re.findall(pattern,text)\n",
    "clean"
   ]
  },
  {
   "cell_type": "code",
   "execution_count": null,
   "id": "c3563234-2328-466e-ba3c-a16eee8bdd5a",
   "metadata": {},
   "outputs": [],
   "source": []
  }
 ],
 "metadata": {
  "kernelspec": {
   "display_name": "Python 3 (ipykernel)",
   "language": "python",
   "name": "python3"
  },
  "language_info": {
   "codemirror_mode": {
    "name": "ipython",
    "version": 3
   },
   "file_extension": ".py",
   "mimetype": "text/x-python",
   "name": "python",
   "nbconvert_exporter": "python",
   "pygments_lexer": "ipython3",
   "version": "3.11.5"
  }
 },
 "nbformat": 4,
 "nbformat_minor": 5
}
